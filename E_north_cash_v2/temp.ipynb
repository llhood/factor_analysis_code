{
 "cells": [
  {
   "cell_type": "code",
   "execution_count": 2,
   "source": [
    "import os\r\n",
    "import numpy as np\r\n",
    "import pandas as pd\r\n",
    "import openpyxl as xl\r\n",
    "import sys\r\n",
    "sys.path.append(\"../../../PUBLIC_CLASS\")\r\n",
    "from ProcessBar import process_bar\r\n",
    "\r\n",
    "# 数据为1000倍\r\n",
    "\r\n",
    "# 获取时间数据\r\n",
    "date_list = []\r\n",
    "for root, dirs, files in os.walk(\"../../../DATABASE/StockPrice/stock_lgtratio_cn_raw_csv_北向资金交易额占比\"):\r\n",
    "    date_list.append(files)\r\n",
    "date_list = np.unique([i.split(\".\")[1] for i in date_list[0]])\r\n",
    "date_list = np.sort(date_list)"
   ],
   "outputs": [],
   "metadata": {}
  },
  {
   "cell_type": "code",
   "execution_count": 5,
   "source": [
    "date_name = date_list[0]\r\n",
    "df_lgtr_i = pd.read_csv(\r\n",
    "    \"../../../DATABASE/StockPrice/stock_lgtratio_cn_raw_csv_北向资金交易额占比/lgtratio_cn_raw.%s.csv\"%date_name,\r\n",
    "    header=None, dtype={0:str})"
   ],
   "outputs": [],
   "metadata": {}
  },
  {
   "cell_type": "code",
   "execution_count": 9,
   "source": [
    "df_lgtr_i.iloc[:,0]"
   ],
   "outputs": [
    {
     "output_type": "execute_result",
     "data": {
      "text/plain": [
       "0       600640\n",
       "1       600641\n",
       "2       600642\n",
       "3       600643\n",
       "4       600645\n",
       "         ...  \n",
       "1599    300506\n",
       "1600    300507\n",
       "1601    300508\n",
       "1602    300511\n",
       "1603    300512\n",
       "Name: 0, Length: 1604, dtype: object"
      ]
     },
     "metadata": {},
     "execution_count": 9
    }
   ],
   "metadata": {}
  }
 ],
 "metadata": {
  "orig_nbformat": 4,
  "language_info": {
   "name": "python",
   "version": "3.7.8",
   "mimetype": "text/x-python",
   "codemirror_mode": {
    "name": "ipython",
    "version": 3
   },
   "pygments_lexer": "ipython3",
   "nbconvert_exporter": "python",
   "file_extension": ".py"
  },
  "kernelspec": {
   "name": "python3",
   "display_name": "Python 3.7.8 64-bit"
  },
  "interpreter": {
   "hash": "0600588c3b5f4418cbe7b5ebc6825b479f3bc010269d8b60d75058cdd010adfe"
  }
 },
 "nbformat": 4,
 "nbformat_minor": 2
}